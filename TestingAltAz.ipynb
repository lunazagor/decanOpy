{
 "cells": [
  {
   "attachments": {},
   "cell_type": "markdown",
   "metadata": {},
   "source": [
    "# Testing Alt Az conversion in decanO.py"
   ]
  },
  {
   "cell_type": "code",
   "execution_count": 46,
   "metadata": {},
   "outputs": [],
   "source": [
    "# Ok, so one thing that I was actually missing was a UTC to Cairo time converter\n",
    "# this works out to dt = 2 hr on Jan 1 2000; when implementing that the Alt/Az matched MUCH better \n",
    "\n",
    "# HOWEVER, no amount of dt hours on Jan 1 -1300 aligns the alt/az between Stellarium and Python; \n",
    "# see this stackexchange for partial discussion:\n",
    "# https://astronomy.stackexchange.com/questions/27447/differences-between-alt-az-in-stellarium-and-astropy\n",
    "\n",
    "# If we take the Stellarium data as gospel, one path forward I could see is to \"rotate\" the Python year\n",
    "# and define a new \"effective Jan 1\" by when the stars behave the closest \n",
    "# maybe count up leap days?\n",
    "\n",
    "# However, it's not clear to me that Stellarium assumptions > Python assumptions \n",
    "# Worth having a chat with Sarah to agree on a way forward before doing a lot of nonsense"
   ]
  },
  {
   "cell_type": "code",
   "execution_count": 47,
   "metadata": {},
   "outputs": [],
   "source": [
    "### Stelarium azimuth\n",
    "\n",
    "# double StelLocation::getAzimuthForLocation(double longObs, double latObs, double longTarget, double latTarget)\n",
    "# {\n",
    "# \tlongObs    *= M_PI_180;\n",
    "# \tlatObs     *= M_PI_180;\n",
    "# \tlongTarget *= M_PI_180;\n",
    "# \tlatTarget  *= M_PI_180;\n",
    "\n",
    "# \tdouble az = atan2(sin(longTarget-longObs), cos(latObs)*tan(latTarget)-sin(latObs)*cos(longTarget-longObs));\n",
    "# \tif (StelApp::getInstance().getFlagSouthAzimuthUsage())\n",
    "# \t\taz += M_PI;\n",
    "# \treturn StelUtils::fmodpos(M_180_PI * az, 360.0);\n",
    "# }\n"
   ]
  },
  {
   "attachments": {},
   "cell_type": "markdown",
   "metadata": {},
   "source": [
    "# \n",
    "\n",
    "<!-- double StelLocation::getAzimuthForLocation(double longObs, double latObs, double longTarget, double latTarget)\n",
    "{\n",
    "\tlongObs    *= M_PI_180;\n",
    "\tlatObs     *= M_PI_180;\n",
    "\tlongTarget *= M_PI_180;\n",
    "\tlatTarget  *= M_PI_180;\n",
    "\n",
    "\tdouble az = atan2(sin(longTarget-longObs), cos(latObs)*tan(latTarget)-sin(latObs)*cos(longTarget-longObs));\n",
    "\tif (StelApp::getInstance().getFlagSouthAzimuthUsage())\n",
    "\t\taz += M_PI;\n",
    "\treturn StelUtils::fmodpos(M_180_PI * az, 360.0); -->"
   ]
  },
  {
   "cell_type": "code",
   "execution_count": 48,
   "metadata": {},
   "outputs": [],
   "source": [
    "### Import Statements\n",
    "import numpy as np\n",
    "import astropy.units as u\n",
    "from astropy.time import Time\n",
    "from astropy.coordinates import SkyCoord, EarthLocation, AltAz, get_sun, Angle, Longitude\n",
    "from sunpy.coordinates import frames, sun\n",
    "import star_chart_spherical_projection as scsp\n",
    "import csv\n",
    "import argparse\n",
    "import os\n",
    "import errno"
   ]
  },
  {
   "cell_type": "code",
   "execution_count": 49,
   "metadata": {},
   "outputs": [],
   "source": [
    "def precessedCoords(declist, year):\n",
    "    '''\n",
    "    A function to find the Dec and RA of list of decans accounting for the precession of the equinoxes.\n",
    "    Inputs: \n",
    "        declist = list of named decans to querry\n",
    "        year = \n",
    "    Outputs:\n",
    "        obj_list = list of decans' RAs and Decs as an astropy SkyCoords object\n",
    "        year = year BC for which to return data\n",
    "        hd_list = a variable to set the header for the csv file\n",
    "    '''\n",
    "    # querry available stars from scsp\n",
    "    # note: need to fix this for stars not listed by name in scsp!\n",
    "    years_since = -2000 - int(year)\n",
    "    #years_since = 0\n",
    "    star_dict = scsp.finalPositionOfStars(declist, yearSince2000=years_since)\n",
    "    star_names = star_dict.keys()\n",
    "\n",
    "    # set up lists \n",
    "    obj_list = []\n",
    "    hd_list = [\"Julian Date\", \"Human Readable Date\", \"Sun Azimuth\", \"Sun Altitude\"]\n",
    "\n",
    "    # calculate objects\n",
    "    for name in star_names:\n",
    "        ra_temp = star_dict[name][\"RA\"].split(\".\")\n",
    "        # Check RA transform?\n",
    "        RA = Angle(ra_temp[0] + \"h\" + ra_temp[1] + \"m\" + ra_temp[2] + \"s\").deg\n",
    "        dec_temp = star_dict[name][\"Declination\"]\n",
    "        Dec = Angle(dec_temp, unit=\"deg\").deg\n",
    "        obj = SkyCoord(ra=RA, dec=Dec, unit=\"deg\")\n",
    "        obj_list.append(obj)\n",
    "        hd_list.append(name + \" Azimuth\")\n",
    "        hd_list.append(name + \" Altitude\")\n",
    "    return(obj_list, hd_list)\n"
   ]
  },
  {
   "cell_type": "code",
   "execution_count": 50,
   "metadata": {},
   "outputs": [],
   "source": [
    "# ##\n",
    "# #### Parse the arguments\n",
    "# ##\n",
    "\n",
    "\n",
    "# parser = argparse.ArgumentParser('My program')\n",
    "# parser.add_argument('-d','--decan', nargs='+', type=str)\n",
    "# parser.add_argument('-yBC', '--yearBC')\n",
    "# parser.add_argument('-m', '--month')\n",
    "\n",
    "# args = parser.parse_args()\n",
    "\n",
    "# decans = list(args.decan)\n",
    "# year = str(args.yearBC)\n",
    "# month = str(args.month)\n",
    "\n",
    "decans = [\"Sirius\", \"Saiph\", \"Rigel\", \"Hamal\", \"Rasalhague\", \"Sheratan\"]\n",
    "#decans = [\"Hamal\", \"Rasalhague\", \"Rigel\", \"Saiph\", \"Sheratan\",\"Sirius\"]\n",
    "year = \"1300\"\n",
    "month = \"01\""
   ]
  },
  {
   "cell_type": "code",
   "execution_count": 51,
   "metadata": {},
   "outputs": [
    {
     "name": "stderr",
     "output_type": "stream",
     "text": [
      "/usr/local/anaconda3/envs/decanOpy/lib/python3.11/site-packages/erfa/core.py:154: ErfaWarning: ERFA function \"dtf2d\" yielded 1 of \"dubious year (Note 6)\"\n",
      "  warnings.warn('ERFA function \"{}\" yielded {}'.format(func_name, wmsg),\n"
     ]
    }
   ],
   "source": [
    "\n",
    "# ##\n",
    "# #### Determining the when and where\n",
    "# ##\n",
    "\n",
    "# # Set Location on Earth \n",
    "\n",
    "Luxor = EarthLocation(lat=25.68*u.deg, lon=31.55*u.deg, height=89*u.m)\n",
    "\n",
    "\n",
    "# # Length of month \n",
    "\n",
    "len31 = ['01', '03', '05', '07', '08', '10', '12']\n",
    "len30 = ['02', '04', '06', '09', '11']\n",
    "\n",
    "if month in len31:\n",
    "\tend = 31\n",
    "else:\n",
    "\tend = 30\n",
    "\n",
    "# # Times and dates\n",
    "\n",
    "start = (Time('-0' + year + '-' + month + '-01T00:00:00.000').jd)\n",
    "days = start + 1 * np.arange(0, 365) # iterate for a year \n",
    "#days = start + 1 * np.arange(0, 1) # iterate for a day to test \n",
    "dhour = 0.04166666674427688\n",
    "d4min = 0.00277777784503996\n",
    "hours = dhour * np.arange(0, 24)\n",
    "minutes = d4min * np.arange(0, 15)\n"
   ]
  },
  {
   "cell_type": "code",
   "execution_count": 64,
   "metadata": {},
   "outputs": [
    {
     "data": {
      "text/plain": [
       "-0.4083366668783128"
      ]
     },
     "execution_count": 64,
     "metadata": {},
     "output_type": "execute_result"
    }
   ],
   "source": [
    "jd = (Time(\"2000\" + '-' + month + '-01T00:12:00.000').jd)\n",
    "jdS = 2451544.91667 # in Stellarium, Jan 1 -1300 00:00:00 = 1246232.40934\n",
    "\n",
    "\n",
    "\n",
    "jd - jdS"
   ]
  },
  {
   "cell_type": "code",
   "execution_count": 53,
   "metadata": {},
   "outputs": [
    {
     "data": {
      "text/plain": [
       "-7.909330000169575"
      ]
     },
     "execution_count": 53,
     "metadata": {},
     "output_type": "execute_result"
    }
   ],
   "source": [
    "jd = (Time(\"1400\" + '-' + month + '-01T00:00:00.000').jd)\n",
    "jdS = 2232407.40933 # in Stellarium, Jan 1 -1300 00:00:00 = 1246232.40934\n",
    "\n",
    "\n",
    "#0.09066999983042479\n",
    "#-8.909330000169575\n",
    "#-7.909330000169575\n",
    "\n",
    "\n",
    "jd - jdS"
   ]
  },
  {
   "cell_type": "code",
   "execution_count": 54,
   "metadata": {},
   "outputs": [
    {
     "data": {
      "text/plain": [
       "2.0906700000632554"
      ]
     },
     "execution_count": 54,
     "metadata": {},
     "output_type": "execute_result"
    }
   ],
   "source": [
    "jd = (Time(\"0000\" + '-' + month + '-01T00:00:00.000').jd)\n",
    "jdS = 1721057.40933 # in Stellarium, Jan 1 -1300 00:00:00 = 1246232.40934\n",
    "\n",
    "jd - jdS"
   ]
  },
  {
   "cell_type": "code",
   "execution_count": 59,
   "metadata": {},
   "outputs": [
    {
     "name": "stdout",
     "output_type": "stream",
     "text": [
      "1209720.5\n"
     ]
    },
    {
     "name": "stderr",
     "output_type": "stream",
     "text": [
      "/usr/local/anaconda3/envs/decanOpy/lib/python3.11/site-packages/erfa/core.py:154: ErfaWarning: ERFA function \"dtf2d\" yielded 1 of \"dubious year (Note 6)\"\n",
      "  warnings.warn('ERFA function \"{}\" yielded {}'.format(func_name, wmsg),\n"
     ]
    }
   ],
   "source": [
    "jd = (Time('-0' + \"1400\" + '-' + month + '-01T00:00:00.000').jd)\n",
    "jdS = 1209707.40933 # in Stellarium, Jan 1 -1300 00:00:00 = 1246232.40934\n",
    "\n",
    "jd - jdS\n",
    "#da = jd - 2451545.0 # Julian centuries since 1 Jan 2000 at 12 UTC\n",
    "\n",
    "print(jd)"
   ]
  },
  {
   "cell_type": "code",
   "execution_count": 87,
   "metadata": {},
   "outputs": [
    {
     "data": {
      "text/plain": [
       "31.550000000000004"
      ]
     },
     "execution_count": 87,
     "metadata": {},
     "output_type": "execute_result"
    }
   ],
   "source": [
    "Luxor.lon.deg"
   ]
  },
  {
   "cell_type": "code",
   "execution_count": 95,
   "metadata": {},
   "outputs": [
    {
     "name": "stdout",
     "output_type": "stream",
     "text": [
      "-11\n"
     ]
    }
   ],
   "source": [
    "days_offset_list = [-14,-14,-13,-12,-11,-11] # bring in line with Stellarium\n",
    "\n",
    "year = 1100\n",
    "\n",
    "if int(year) > 1499:\n",
    "    dS_off = -14 \n",
    "elif int(year) < 1201:    \n",
    "    dS_off = -11\n",
    "else:\n",
    "    dS_off = 1 - (int(year) / 100 )\\\n",
    "    \n",
    "print(dS_off)    "
   ]
  },
  {
   "cell_type": "code",
   "execution_count": 88,
   "metadata": {},
   "outputs": [
    {
     "name": "stdout",
     "output_type": "stream",
     "text": [
      "-14\n",
      "-14\n",
      "-13\n",
      "-12\n",
      "-11\n",
      "-11\n"
     ]
    }
   ],
   "source": [
    "years = [\"1600\", \"1500\", \"1400\", \"1300\", \"1200\", \"1100\"]\n",
    "jdS_list = [1136657.40933, 1173182.40933, 1209707.40933, 1246232.40933, 1282757.40933, 1319282.40933]\n",
    "\n",
    "for i in range(0, len(jdS_list)):\n",
    "    jdS = jdS_list[i]\n",
    "    jd = (Time('-0' + years[i] + '-' + month + '-01T00:00:00.000', scale=\"local\", location = Luxor).jd) - (Luxor.lon.deg/15.0) * dhour\n",
    "    print(round(jdS - jd))\n"
   ]
  },
  {
   "cell_type": "code",
   "execution_count": 78,
   "metadata": {},
   "outputs": [
    {
     "name": "stdout",
     "output_type": "stream",
     "text": [
      "-1301-12-31T21:49:25.896\n",
      "-1301-12-19T21:49:26.112\n"
     ]
    },
    {
     "name": "stderr",
     "output_type": "stream",
     "text": [
      "/usr/local/anaconda3/envs/decanOpy/lib/python3.11/site-packages/erfa/core.py:154: ErfaWarning: ERFA function \"d2dtf\" yielded 1 of \"dubious year (Note 5)\"\n",
      "  warnings.warn('ERFA function \"{}\" yielded {}'.format(func_name, wmsg),\n"
     ]
    }
   ],
   "source": [
    "jd = (Time('-0' + \"1300\" + '-' + month + '-01T00:00:00.000', scale=\"local\", location = Luxor).jd)\n",
    "jdS = 1246232.40933 # in Stellarium, Jan 1 -1300 00:00:00 = 1246232.40934\n",
    "\n",
    "jd - jdS\n",
    "#da = jd - 2451545.0 # Julian centuries since 1 Jan 2000 at 12 UTC\n",
    "\n",
    "print(Time(jd - (32.6421/15.0) * dhour, format = \"jd\").isot)\n",
    "print(Time(jdS , format=\"jd\").isot)\n"
   ]
  },
  {
   "cell_type": "code",
   "execution_count": 74,
   "metadata": {},
   "outputs": [
    {
     "data": {
      "text/plain": [
       "0.04166666674427688"
      ]
     },
     "execution_count": 74,
     "metadata": {},
     "output_type": "execute_result"
    }
   ],
   "source": [
    "dhour"
   ]
  },
  {
   "cell_type": "code",
   "execution_count": 33,
   "metadata": {},
   "outputs": [
    {
     "data": {
      "text/plain": [
       "11.090670000063255"
      ]
     },
     "execution_count": 33,
     "metadata": {},
     "output_type": "execute_result"
    }
   ],
   "source": [
    "jd = (Time('-0' + \"1200\" + '-' + month + '-01T00:00:00.000').jd)\n",
    "jdS = 1282757.40933 # in Stellarium, Jan 1 -1300 00:00:00 = 1246232.40934\n",
    "\n",
    "jd - jdS\n",
    "#da = jd - 2451545.0 # Julian centuries since 1 Jan 2000 at 12 UTC"
   ]
  },
  {
   "cell_type": "code",
   "execution_count": 34,
   "metadata": {},
   "outputs": [
    {
     "name": "stderr",
     "output_type": "stream",
     "text": [
      "/usr/local/anaconda3/envs/decanOpy/lib/python3.11/site-packages/erfa/core.py:154: ErfaWarning: ERFA function \"dtf2d\" yielded 1 of \"dubious year (Note 6)\"\n",
      "  warnings.warn('ERFA function \"{}\" yielded {}'.format(func_name, wmsg),\n"
     ]
    },
    {
     "data": {
      "text/plain": [
       "11.090670000063255"
      ]
     },
     "execution_count": 34,
     "metadata": {},
     "output_type": "execute_result"
    }
   ],
   "source": [
    "jd = (Time('-0' + \"1100\" + '-' + month + '-01T00:00:00.000').jd)\n",
    "jdS = 1319282.40933 # in Stellarium, Jan 1 -1300 00:00:00 = 1246232.40934\n",
    "\n",
    "jd - jdS\n",
    "#da = jd - 2451545.0 # Julian centuries since 1 Jan 2000 at 12 UTC"
   ]
  },
  {
   "cell_type": "code",
   "execution_count": 30,
   "metadata": {},
   "outputs": [
    {
     "data": {
      "text/plain": [
       "12.09065999998711"
      ]
     },
     "execution_count": 30,
     "metadata": {},
     "output_type": "execute_result"
    }
   ],
   "source": []
  },
  {
   "cell_type": "code",
   "execution_count": 31,
   "metadata": {},
   "outputs": [
    {
     "name": "stderr",
     "output_type": "stream",
     "text": [
      "/usr/local/anaconda3/envs/decanOpy/lib/python3.11/site-packages/erfa/core.py:154: ErfaWarning: ERFA function \"d2dtf\" yielded 1 of \"dubious year (Note 5)\"\n",
      "  warnings.warn('ERFA function \"{}\" yielded {}'.format(func_name, wmsg),\n"
     ]
    },
    {
     "data": {
      "text/plain": [
       "'-1300-01-01T00:00:00.000'"
      ]
     },
     "execution_count": 31,
     "metadata": {},
     "output_type": "execute_result"
    }
   ],
   "source": [
    "Time(1246232.40934 + 12.09065999998711, format=\"jd\").isot"
   ]
  },
  {
   "cell_type": "code",
   "execution_count": null,
   "metadata": {},
   "outputs": [],
   "source": []
  },
  {
   "cell_type": "code",
   "execution_count": null,
   "metadata": {},
   "outputs": [],
   "source": []
  },
  {
   "cell_type": "code",
   "execution_count": null,
   "metadata": {},
   "outputs": [],
   "source": []
  },
  {
   "cell_type": "code",
   "execution_count": null,
   "metadata": {},
   "outputs": [],
   "source": []
  },
  {
   "cell_type": "code",
   "execution_count": null,
   "metadata": {},
   "outputs": [],
   "source": []
  },
  {
   "cell_type": "code",
   "execution_count": 14,
   "metadata": {},
   "outputs": [],
   "source": [
    "\n",
    "# ###\n",
    "# ##### Writing the .txt file\n",
    "# ###\n",
    "# direct = os.getcwd() # current working directory\n",
    "# ditect = direct + '/DecanLists' # directory where the .txt files go\n",
    "\n",
    "# if not os.path.exists(os.path.dirname(direct)):\n",
    "#     try:\n",
    "#         os.makedirs(os.path.dirname(direct))\n",
    "#     except OSError as exc: # Guard against race condition\n",
    "#         if exc.errno != errno.EEXIST:\n",
    "#             raise\n",
    "\n",
    "# # name the txt file\n",
    "# # note to self: should I just make it a csv or something?\n",
    "\n",
    "# filename = direct + \"/\" + \"data\" + month + year + \"BC.txt\"\n"
   ]
  },
  {
   "cell_type": "code",
   "execution_count": 16,
   "metadata": {},
   "outputs": [],
   "source": [
    "\n",
    "## Get coordinates of decans while accounting for precession of the equinoxes\n",
    "\n",
    "#obj = SkyCoord.from_name(decan)\n",
    "(obj_list, hd_list) = precessedCoords(decans, year)\n",
    "\n"
   ]
  },
  {
   "cell_type": "code",
   "execution_count": 17,
   "metadata": {},
   "outputs": [
    {
     "name": "stderr",
     "output_type": "stream",
     "text": [
      "/usr/local/anaconda3/envs/decanOpy/lib/python3.11/site-packages/erfa/core.py:154: ErfaWarning: ERFA function \"utctai\" yielded 1 of \"dubious year (Note 3)\"\n",
      "  warnings.warn('ERFA function \"{}\" yielded {}'.format(func_name, wmsg),\n",
      "/usr/local/anaconda3/envs/decanOpy/lib/python3.11/site-packages/erfa/core.py:154: ErfaWarning: ERFA function \"taiutc\" yielded 1 of \"dubious year (Note 4)\"\n",
      "  warnings.warn('ERFA function \"{}\" yielded {}'.format(func_name, wmsg),\n",
      "/usr/local/anaconda3/envs/decanOpy/lib/python3.11/site-packages/erfa/core.py:154: ErfaWarning: ERFA function \"epv00\" yielded 1 of \"warning: date outsidethe range 1900-2100 AD\"\n",
      "  warnings.warn('ERFA function \"{}\" yielded {}'.format(func_name, wmsg),\n",
      "WARNING: Tried to get polar motions for times before IERS data is valid. Defaulting to polar motion from the 50-yr mean for those. This may affect precision at the arcsec level. Please check your astropy.utils.iers.conf.iers_auto_url and point it to a newer version if necessary. [astropy.coordinates.builtin_frames.utils]\n",
      "/usr/local/anaconda3/envs/decanOpy/lib/python3.11/site-packages/erfa/core.py:154: ErfaWarning: ERFA function \"utcut1\" yielded 1 of \"dubious year (Note 3)\"\n",
      "  warnings.warn('ERFA function \"{}\" yielded {}'.format(func_name, wmsg),\n"
     ]
    }
   ],
   "source": [
    "day = days[0]\n",
    "hour = hours[0]\n",
    "mins = minutes[0]\n",
    "obj = obj_list[0]\n",
    "\n",
    "temptime = day + hour + mins\n",
    "\n",
    "# define alt and az frame (time and date)\n",
    "frame_altaz = AltAz(obstime=Time(temptime, format = 'jd'), location=Luxor)\n",
    "\n",
    "# Sun coords\n",
    "c = SkyCoord(0 * u.arcsec, 0 * u.arcsec, obstime=Time(temptime, format = 'jd'), observer=\"earth\", frame=frames.Helioprojective)\n",
    "sun_altaz = c.transform_to(frame_altaz)\n",
    "\n",
    "# star coords\n",
    "c1 = SkyCoord(obj)\n",
    "info_temp = c1.transform_to(frame_altaz)\n",
    "az = '{0.az:.1f}'.format(info_temp)[0:-4]\n",
    "alt = '{0.alt:.1f}'.format(info_temp)[0:-4]\n",
    "\n"
   ]
  },
  {
   "cell_type": "code",
   "execution_count": 231,
   "metadata": {},
   "outputs": [
    {
     "data": {
      "text/plain": [
       "<SkyCoord (ICRS): (ra, dec) in deg\n",
       "    (348.87916667, 5.2974748)>"
      ]
     },
     "execution_count": 231,
     "metadata": {},
     "output_type": "execute_result"
    }
   ],
   "source": [
    "obj"
   ]
  },
  {
   "cell_type": "code",
   "execution_count": 232,
   "metadata": {},
   "outputs": [
    {
     "data": {
      "text/plain": [
       "<SkyCoord (AltAz: obstime=1246244.5, location=(4901637.66358938, 3009614.36089623, 2747193.79657619) m, pressure=0.0 hPa, temperature=0.0 deg_C, relative_humidity=0.0, obswl=1.0 micron): (az, alt) in deg\n",
       "    (17.45261761, -73.6225216)>"
      ]
     },
     "execution_count": 232,
     "metadata": {},
     "output_type": "execute_result"
    }
   ],
   "source": [
    "info_temp"
   ]
  },
  {
   "cell_type": "code",
   "execution_count": 46,
   "metadata": {},
   "outputs": [
    {
     "data": {
      "text/plain": [
       "'23.2586'"
      ]
     },
     "execution_count": 46,
     "metadata": {},
     "output_type": "execute_result"
    }
   ],
   "source": [
    "angtest = Angle(\"348.87916667\", unit=\"deg\")\n",
    "angtest.to_string(unit=u.hour, decimal=True)"
   ]
  },
  {
   "cell_type": "code",
   "execution_count": 35,
   "metadata": {},
   "outputs": [
    {
     "ename": "AttributeError",
     "evalue": "'NoneType' object has no attribute 'scale'",
     "output_type": "error",
     "traceback": [
      "\u001b[0;31m---------------------------------------------------------------------------\u001b[0m",
      "\u001b[0;31mAttributeError\u001b[0m                            Traceback (most recent call last)",
      "Cell \u001b[0;32mIn[35], line 1\u001b[0m\n\u001b[0;32m----> 1\u001b[0m info_temp \u001b[39m=\u001b[39m obj\u001b[39m.\u001b[39;49mtransform_to(AltAz(location\u001b[39m=\u001b[39;49mLuxor))\n",
      "File \u001b[0;32m/usr/local/anaconda3/envs/decanOpy/lib/python3.11/site-packages/astropy/coordinates/sky_coordinate.py:702\u001b[0m, in \u001b[0;36mSkyCoord.transform_to\u001b[0;34m(self, frame, merge_attributes)\u001b[0m\n\u001b[1;32m    698\u001b[0m generic_frame \u001b[39m=\u001b[39m GenericFrame(frame_kwargs)\n\u001b[1;32m    700\u001b[0m \u001b[39m# Do the transformation, returning a coordinate frame of the desired\u001b[39;00m\n\u001b[1;32m    701\u001b[0m \u001b[39m# final type (not generic).\u001b[39;00m\n\u001b[0;32m--> 702\u001b[0m new_coord \u001b[39m=\u001b[39m trans(\u001b[39mself\u001b[39;49m\u001b[39m.\u001b[39;49mframe, generic_frame)\n\u001b[1;32m    704\u001b[0m \u001b[39m# Finally make the new SkyCoord object from the `new_coord` and\u001b[39;00m\n\u001b[1;32m    705\u001b[0m \u001b[39m# remaining frame_kwargs that are not frame_attributes in `new_coord`.\u001b[39;00m\n\u001b[1;32m    706\u001b[0m \u001b[39mfor\u001b[39;00m attr \u001b[39min\u001b[39;00m \u001b[39mset\u001b[39m(new_coord\u001b[39m.\u001b[39mframe_attributes) \u001b[39m&\u001b[39m \u001b[39mset\u001b[39m(frame_kwargs\u001b[39m.\u001b[39mkeys()):\n",
      "File \u001b[0;32m/usr/local/anaconda3/envs/decanOpy/lib/python3.11/site-packages/astropy/coordinates/transformations.py:1579\u001b[0m, in \u001b[0;36mCompositeTransform.__call__\u001b[0;34m(self, fromcoord, toframe)\u001b[0m\n\u001b[1;32m   1576\u001b[0m             frattrs[inter_frame_attr_nm] \u001b[39m=\u001b[39m attr\n\u001b[1;32m   1578\u001b[0m     curr_toframe \u001b[39m=\u001b[39m t\u001b[39m.\u001b[39mtosys(\u001b[39m*\u001b[39m\u001b[39m*\u001b[39mfrattrs)\n\u001b[0;32m-> 1579\u001b[0m     curr_coord \u001b[39m=\u001b[39m t(curr_coord, curr_toframe)\n\u001b[1;32m   1581\u001b[0m \u001b[39m# this is safe even in the case where self.transforms is empty, because\u001b[39;00m\n\u001b[1;32m   1582\u001b[0m \u001b[39m# coordinate objects are immutable, so copying is not needed\u001b[39;00m\n\u001b[1;32m   1583\u001b[0m \u001b[39mreturn\u001b[39;00m curr_coord\n",
      "File \u001b[0;32m/usr/local/anaconda3/envs/decanOpy/lib/python3.11/site-packages/astropy/coordinates/transformations.py:1145\u001b[0m, in \u001b[0;36mFunctionTransformWithFiniteDifference.__call__\u001b[0;34m(self, fromcoord, toframe)\u001b[0m\n\u001b[1;32m   1143\u001b[0m     \u001b[39mreturn\u001b[39;00m reprwithoutdiff\u001b[39m.\u001b[39mrealize_frame(reprwithdiff)\n\u001b[1;32m   1144\u001b[0m \u001b[39melse\u001b[39;00m:\n\u001b[0;32m-> 1145\u001b[0m     \u001b[39mreturn\u001b[39;00m supcall(fromcoord, toframe)\n",
      "File \u001b[0;32m/usr/local/anaconda3/envs/decanOpy/lib/python3.11/site-packages/astropy/coordinates/builtin_frames/icrs_observed_transforms.py:33\u001b[0m, in \u001b[0;36micrs_to_observed\u001b[0;34m(icrs_coo, observed_frame)\u001b[0m\n\u001b[1;32m     28\u001b[0m is_unitspherical \u001b[39m=\u001b[39m (\n\u001b[1;32m     29\u001b[0m     \u001b[39misinstance\u001b[39m(icrs_coo\u001b[39m.\u001b[39mdata, UnitSphericalRepresentation)\n\u001b[1;32m     30\u001b[0m     \u001b[39mor\u001b[39;00m icrs_coo\u001b[39m.\u001b[39mcartesian\u001b[39m.\u001b[39mx\u001b[39m.\u001b[39munit \u001b[39m==\u001b[39m u\u001b[39m.\u001b[39mone\n\u001b[1;32m     31\u001b[0m )\n\u001b[1;32m     32\u001b[0m \u001b[39m# first set up the astrometry context for ICRS<->observed\u001b[39;00m\n\u001b[0;32m---> 33\u001b[0m astrom \u001b[39m=\u001b[39m erfa_astrom\u001b[39m.\u001b[39;49mget()\u001b[39m.\u001b[39;49mapco(observed_frame)\n\u001b[1;32m     35\u001b[0m \u001b[39m# correct for parallax to find BCRS direction from observer (as in erfa.pmpx)\u001b[39;00m\n\u001b[1;32m     36\u001b[0m \u001b[39mif\u001b[39;00m is_unitspherical:\n",
      "File \u001b[0;32m/usr/local/anaconda3/envs/decanOpy/lib/python3.11/site-packages/astropy/coordinates/erfa_astrom.py:52\u001b[0m, in \u001b[0;36mErfaAstrom.apco\u001b[0;34m(frame_or_coord)\u001b[0m\n\u001b[1;32m     49\u001b[0m lon, lat, height \u001b[39m=\u001b[39m frame_or_coord\u001b[39m.\u001b[39mlocation\u001b[39m.\u001b[39mto_geodetic(\u001b[39m\"\u001b[39m\u001b[39mWGS84\u001b[39m\u001b[39m\"\u001b[39m)\n\u001b[1;32m     50\u001b[0m obstime \u001b[39m=\u001b[39m frame_or_coord\u001b[39m.\u001b[39mobstime\n\u001b[0;32m---> 52\u001b[0m jd1_tt, jd2_tt \u001b[39m=\u001b[39m get_jd12(obstime, \u001b[39m\"\u001b[39;49m\u001b[39mtt\u001b[39;49m\u001b[39m\"\u001b[39;49m)\n\u001b[1;32m     53\u001b[0m xp, yp \u001b[39m=\u001b[39m get_polar_motion(obstime)\n\u001b[1;32m     54\u001b[0m sp \u001b[39m=\u001b[39m erfa\u001b[39m.\u001b[39msp00(jd1_tt, jd2_tt)\n",
      "File \u001b[0;32m/usr/local/anaconda3/envs/decanOpy/lib/python3.11/site-packages/astropy/coordinates/builtin_frames/utils.py:112\u001b[0m, in \u001b[0;36mget_jd12\u001b[0;34m(time, scale)\u001b[0m\n\u001b[1;32m     96\u001b[0m \u001b[39mdef\u001b[39;00m \u001b[39mget_jd12\u001b[39m(time, scale):\n\u001b[1;32m     97\u001b[0m \u001b[39m    \u001b[39m\u001b[39m\"\"\"\u001b[39;00m\n\u001b[1;32m     98\u001b[0m \u001b[39m    Gets ``jd1`` and ``jd2`` from a time object in a particular scale.\u001b[39;00m\n\u001b[1;32m     99\u001b[0m \n\u001b[0;32m   (...)\u001b[0m\n\u001b[1;32m    110\u001b[0m \u001b[39m    jd2 : float\u001b[39;00m\n\u001b[1;32m    111\u001b[0m \u001b[39m    \"\"\"\u001b[39;00m\n\u001b[0;32m--> 112\u001b[0m     \u001b[39mif\u001b[39;00m time\u001b[39m.\u001b[39;49mscale \u001b[39m==\u001b[39m scale:\n\u001b[1;32m    113\u001b[0m         newtime \u001b[39m=\u001b[39m time\n\u001b[1;32m    114\u001b[0m     \u001b[39melse\u001b[39;00m:\n",
      "\u001b[0;31mAttributeError\u001b[0m: 'NoneType' object has no attribute 'scale'"
     ]
    }
   ],
   "source": [
    "info_temp = obj.transform_to(AltAz(location=Luxor))"
   ]
  },
  {
   "cell_type": "code",
   "execution_count": 13,
   "metadata": {},
   "outputs": [],
   "source": [
    "# FROM STELLARIUM on 1/1/-1300 (~00:00:56)\n",
    "# Hamal (Alpha Aries)\n",
    "\n",
    "# (J2000)   RA: 02h 07m 10s Dec: 23 deg 27' 44\"\n",
    "# (on date) RA: 23h 14m 56s Dec: 05 deg 39' 44\"\n",
    "\n",
    "# Az/Alt: 279 deg 07' 32\" / -5 46' 30\"\n",
    "\n",
    "\n",
    "#Result from astrogreg\n",
    "# Alt:-042° 03' 19.13\"\n",
    "# Az: +304° 52' 23.81\""
   ]
  },
  {
   "cell_type": "code",
   "execution_count": 17,
   "metadata": {},
   "outputs": [
    {
     "name": "stdout",
     "output_type": "stream",
     "text": [
      "<SkyCoord (ICRS): (ra, dec) in deg\n",
      "    (348.87916667, 5.2974748)>\n"
     ]
    },
    {
     "data": {
      "text/plain": [
       "348.7333333333333"
      ]
     },
     "execution_count": 17,
     "metadata": {},
     "output_type": "execute_result"
    }
   ],
   "source": [
    "print(obj_list[0])\n",
    "Angle(\"23h14m56s\").degree"
   ]
  },
  {
   "cell_type": "code",
   "execution_count": 116,
   "metadata": {},
   "outputs": [],
   "source": [
    "year = \"2023\"\n",
    "month = \"01\"\n",
    "\n",
    "#start = (Time('-0' + year + '-' + month + '-01T00:00:00.000').jd)\n",
    "time_str = year + '-' + month + '-01T00:00:00.000'\n",
    "start = Time(time_str).jd\n",
    "days = start + 1 * np.arange(0, 365) # iterate for a year \n",
    "#days = start + 1 * np.arange(0, 1) # iterate for a day to test \n",
    "dhour = 0.04166666674427688\n",
    "d4min = 0.00277777784503996\n",
    "hours = dhour * np.arange(0, 24)\n",
    "minutes = d4min * np.arange(0, 15)"
   ]
  },
  {
   "cell_type": "code",
   "execution_count": 117,
   "metadata": {},
   "outputs": [
    {
     "data": {
      "text/plain": [
       "'2023-01-01T00:00:00.000'"
      ]
     },
     "execution_count": 117,
     "metadata": {},
     "output_type": "execute_result"
    }
   ],
   "source": [
    "time_str"
   ]
  },
  {
   "cell_type": "code",
   "execution_count": 118,
   "metadata": {},
   "outputs": [],
   "source": [
    "time = '2023-01-01T00:00:00.00'\n",
    "t = Time(time, format='fits', scale = 'utc').jd\n",
    "t2 = Time(time).jd\n"
   ]
  },
  {
   "cell_type": "code",
   "execution_count": 119,
   "metadata": {},
   "outputs": [
    {
     "data": {
      "text/plain": [
       "'2023-01-01T00:00:00.000'"
      ]
     },
     "execution_count": 119,
     "metadata": {},
     "output_type": "execute_result"
    }
   ],
   "source": [
    "time_str"
   ]
  },
  {
   "cell_type": "code",
   "execution_count": 108,
   "metadata": {},
   "outputs": [
    {
     "data": {
      "text/plain": [
       "2460093.5"
      ]
     },
     "execution_count": 108,
     "metadata": {},
     "output_type": "execute_result"
    }
   ],
   "source": [
    "t2"
   ]
  },
  {
   "cell_type": "code",
   "execution_count": 73,
   "metadata": {},
   "outputs": [
    {
     "data": {
      "text/plain": [
       "982174.5"
      ]
     },
     "execution_count": 73,
     "metadata": {},
     "output_type": "execute_result"
    }
   ],
   "source": [
    "temptime"
   ]
  },
  {
   "cell_type": "code",
   "execution_count": 202,
   "metadata": {},
   "outputs": [],
   "source": [
    "start = (Time('2000-01-01T00:00:00.000', format='fits', scale = 'utc').jd)\n",
    "end = (Time('2000-01-01T02:00:00.000', format='fits', scale = 'utc').jd)\n"
   ]
  },
  {
   "cell_type": "code",
   "execution_count": 205,
   "metadata": {},
   "outputs": [
    {
     "data": {
      "text/plain": [
       "0.08333333348855376"
      ]
     },
     "execution_count": 205,
     "metadata": {},
     "output_type": "execute_result"
    }
   ],
   "source": [
    "end - start"
   ]
  },
  {
   "cell_type": "code",
   "execution_count": 233,
   "metadata": {},
   "outputs": [
    {
     "name": "stderr",
     "output_type": "stream",
     "text": [
      "/usr/local/anaconda3/envs/decanOpy/lib/python3.11/site-packages/erfa/core.py:154: ErfaWarning: ERFA function \"dtf2d\" yielded 1 of \"dubious year (Note 6)\"\n",
      "  warnings.warn('ERFA function \"{}\" yielded {}'.format(func_name, wmsg),\n"
     ]
    }
   ],
   "source": [
    "# Do they match today?\n",
    "\n",
    "# Stellarium says at 2000-01-01 00:00:30\n",
    "\n",
    "# Ra/DEc 2h07m11.5s / 23deg27'46\"\n",
    "#\n",
    "# Az/Alt 284deg45'32\" / 26 deg 22' 45\"\n",
    "\n",
    "year = \"1300\"\n",
    "month = \"01\"\n",
    "\n",
    "#start = (Time('-0' + year + '-' + month + '-01T00:00:00.000', format='fits', scale = 'utc').jd)\n",
    "start = (Time('-0' + year + '-' + month + '-01T00:00:00.000', scale = 'utc').jd)\n",
    "days = start + 1 * np.arange(0, 365) # iterate for a year \n",
    "#days = start + 1 * np.arange(0, 1) # iterate for a day to test \n",
    "dhour = 0.04166666674427688\n",
    "dtzone = dhour * 2 # 2 hours diff between UTC to Egypt time\n",
    "d4min = 0.00277777784503996\n",
    "hours = dhour * np.arange(0, 24)\n",
    "minutes = d4min * np.arange(0, 15)\n",
    "\n",
    "(obj_list, hd_list) = precessedCoords(decans, year)\n"
   ]
  },
  {
   "cell_type": "code",
   "execution_count": 278,
   "metadata": {},
   "outputs": [
    {
     "name": "stderr",
     "output_type": "stream",
     "text": [
      "WARNING: TimeDeltaMissingUnitWarning: Numerical value without unit or explicit format passed to TimeDelta, assuming days [astropy.time.core]\n",
      "/usr/local/anaconda3/envs/decanOpy/lib/python3.11/site-packages/erfa/core.py:154: ErfaWarning: ERFA function \"utctai\" yielded 1 of \"dubious year (Note 3)\"\n",
      "  warnings.warn('ERFA function \"{}\" yielded {}'.format(func_name, wmsg),\n",
      "/usr/local/anaconda3/envs/decanOpy/lib/python3.11/site-packages/erfa/core.py:154: ErfaWarning: ERFA function \"taiutc\" yielded 1 of \"dubious year (Note 4)\"\n",
      "  warnings.warn('ERFA function \"{}\" yielded {}'.format(func_name, wmsg),\n",
      "/usr/local/anaconda3/envs/decanOpy/lib/python3.11/site-packages/erfa/core.py:154: ErfaWarning: ERFA function \"epv00\" yielded 1 of \"warning: date outsidethe range 1900-2100 AD\"\n",
      "  warnings.warn('ERFA function \"{}\" yielded {}'.format(func_name, wmsg),\n",
      "WARNING: Tried to get polar motions for times before IERS data is valid. Defaulting to polar motion from the 50-yr mean for those. This may affect precision at the arcsec level. Please check your astropy.utils.iers.conf.iers_auto_url and point it to a newer version if necessary. [astropy.coordinates.builtin_frames.utils]\n",
      "/usr/local/anaconda3/envs/decanOpy/lib/python3.11/site-packages/erfa/core.py:154: ErfaWarning: ERFA function \"utcut1\" yielded 1 of \"dubious year (Note 3)\"\n",
      "  warnings.warn('ERFA function \"{}\" yielded {}'.format(func_name, wmsg),\n"
     ]
    }
   ],
   "source": [
    "\n",
    "day = days[0]\n",
    "hour = hours[0]\n",
    "mins = minutes[0]\n",
    "obj = obj_list[0]\n",
    "\n",
    "temptime = day + hour + mins\n",
    "\n",
    "oTime = Time(temptime, format = 'jd') + 5.6 * dhour\n",
    "frame_altaz = AltAz(obstime=oTime, location=Luxor)\n",
    "\n",
    "# Sun coords\n",
    "c = SkyCoord(0 * u.arcsec, 0 * u.arcsec, obstime=oTime, observer=\"earth\", frame=frames.Helioprojective)\n",
    "sun_altaz = c.transform_to(frame_altaz)\n",
    "# star coords\n",
    "info_temp = obj.transform_to(frame_altaz)\n",
    "az = '{0.az:.1f}'.format(info_temp)[0:-4]\n",
    "alt = '{0.alt:.1f}'.format(info_temp)[0:-4]"
   ]
  },
  {
   "cell_type": "code",
   "execution_count": 279,
   "metadata": {},
   "outputs": [
    {
     "name": "stdout",
     "output_type": "stream",
     "text": [
      "<SkyCoord (ICRS): (ra, dec) in deg\n",
      "    (348.87916667, 5.2974748)>\n",
      "<SkyCoord (AltAz: obstime=1246244.7333333339, location=(4901637.66358938, 3009614.36089623, 2747193.79657619) m, pressure=0.0 hPa, temperature=0.0 deg_C, relative_humidity=0.0, obswl=1.0 micron): (az, alt) in deg\n",
      "    (98.65705433, -5.0598365)>\n"
     ]
    }
   ],
   "source": [
    "print(obj)\n",
    "print(info_temp)\n",
    "# 279 -5\n",
    "\n",
    "# test_ang = Angle(276.14507468, unit = \"deg\")\n",
    "# test_ang.to_string(unit=u.hourangle)"
   ]
  },
  {
   "cell_type": "code",
   "execution_count": 241,
   "metadata": {},
   "outputs": [
    {
     "name": "stdout",
     "output_type": "stream",
     "text": [
      "23h15m31.0000008s\n"
     ]
    }
   ],
   "source": [
    "test_ang = Angle(348.87916667, unit = \"deg\")\n",
    "print(test_ang.to_string(unit=u.hourangle))"
   ]
  },
  {
   "cell_type": "code",
   "execution_count": 222,
   "metadata": {},
   "outputs": [
    {
     "name": "stdout",
     "output_type": "stream",
     "text": [
      "<SkyCoord (AltAz: obstime=1246244.5, location=(4901637.66358938, 3009614.36089623, 2747193.79657619) m, pressure=0.0 hPa, temperature=0.0 deg_C, relative_humidity=0.0, obswl=1.0 micron): (az, alt) in deg\n",
      "    (305.17560816, -42.05330284)>\n"
     ]
    }
   ],
   "source": [
    "\n",
    "ctest = SkyCoord(ra=31.79166667*u.deg, dec=23.26999508*u.deg)\n",
    "frame_altaz = AltAz(obstime=Time(temptime, format = 'jd'), location=Luxor)\n",
    "info_temp = ctest.transform_to(frame_altaz)\n",
    "print(info_temp)\n",
    "\n"
   ]
  },
  {
   "cell_type": "code",
   "execution_count": 225,
   "metadata": {},
   "outputs": [
    {
     "data": {
      "text/plain": [
       "'3h23m12s'"
      ]
     },
     "execution_count": 225,
     "metadata": {},
     "output_type": "execute_result"
    }
   ],
   "source": []
  },
  {
   "cell_type": "code",
   "execution_count": 198,
   "metadata": {},
   "outputs": [],
   "source": [
    "from zoneinfo import ZoneInfo"
   ]
  },
  {
   "cell_type": "code",
   "execution_count": 199,
   "metadata": {},
   "outputs": [
    {
     "name": "stdout",
     "output_type": "stream",
     "text": [
      "18:00:52.42 -23:50:51.9\n",
      "-1300/1/1 04:45:17\n",
      "116:10:50.3 -0:16:12.5\n"
     ]
    }
   ],
   "source": [
    "import ephem\n",
    "\n",
    "d = ephem.Date('-1300/01/01 00:00:00')\n",
    "\n",
    "sun = ephem.Sun()\n",
    "sun.compute(d)\n",
    "print(sun.ra, sun.dec)\n",
    "\n",
    "Lux = ephem.Observer()\n",
    "Lux.date = d\n",
    "Lux.lat = '25.68'\n",
    "Lux.lon = '31.55'\n",
    "\n",
    "print(Lux.next_rising(sun))\n",
    "\n",
    "print(sun.az, sun.alt)"
   ]
  },
  {
   "cell_type": "code",
   "execution_count": 136,
   "metadata": {},
   "outputs": [
    {
     "data": {
      "text/plain": [
       "2451544.5"
      ]
     },
     "execution_count": 136,
     "metadata": {},
     "output_type": "execute_result"
    }
   ],
   "source": [
    "temptime"
   ]
  },
  {
   "cell_type": "code",
   "execution_count": 110,
   "metadata": {},
   "outputs": [
    {
     "data": {
      "text/plain": [
       "'2h08m28.0000008s'"
      ]
     },
     "execution_count": 110,
     "metadata": {},
     "output_type": "execute_result"
    }
   ],
   "source": [
    "test_ang = Angle(32.11666667, unit = \"deg\")\n",
    "test_ang.to_string(unit=u.hourangle)"
   ]
  },
  {
   "cell_type": "code",
   "execution_count": 38,
   "metadata": {},
   "outputs": [
    {
     "name": "stderr",
     "output_type": "stream",
     "text": [
      "/usr/local/anaconda3/envs/decanOpy/lib/python3.11/site-packages/erfa/core.py:154: ErfaWarning: ERFA function \"d2dtf\" yielded 1 of \"dubious year (Note 5)\"\n",
      "  warnings.warn('ERFA function \"{}\" yielded {}'.format(func_name, wmsg),\n"
     ]
    },
    {
     "data": {
      "text/plain": [
       "'-01300-01-01T00:00:00.000'"
      ]
     },
     "execution_count": 38,
     "metadata": {},
     "output_type": "execute_result"
    }
   ],
   "source": [
    "tt = Time(temptime, format = 'jd')\n",
    "\n",
    "tt.fits"
   ]
  },
  {
   "cell_type": "code",
   "execution_count": 39,
   "metadata": {},
   "outputs": [
    {
     "name": "stderr",
     "output_type": "stream",
     "text": [
      "/usr/local/anaconda3/envs/decanOpy/lib/python3.11/site-packages/erfa/core.py:154: ErfaWarning: ERFA function \"utctai\" yielded 1 of \"dubious year (Note 3)\"\n",
      "  warnings.warn('ERFA function \"{}\" yielded {}'.format(func_name, wmsg),\n",
      "WARNING: Tried to get polar motions for times before IERS data is valid. Defaulting to polar motion from the 50-yr mean for those. This may affect precision at the arcsec level. Please check your astropy.utils.iers.conf.iers_auto_url and point it to a newer version if necessary. [astropy.coordinates.builtin_frames.utils]\n",
      "/usr/local/anaconda3/envs/decanOpy/lib/python3.11/site-packages/erfa/core.py:154: ErfaWarning: ERFA function \"utcut1\" yielded 1 of \"dubious year (Note 3)\"\n",
      "  warnings.warn('ERFA function \"{}\" yielded {}'.format(func_name, wmsg),\n",
      "/usr/local/anaconda3/envs/decanOpy/lib/python3.11/site-packages/erfa/core.py:154: ErfaWarning: ERFA function \"taiutc\" yielded 1 of \"dubious year (Note 4)\"\n",
      "  warnings.warn('ERFA function \"{}\" yielded {}'.format(func_name, wmsg),\n",
      "/usr/local/anaconda3/envs/decanOpy/lib/python3.11/site-packages/erfa/core.py:154: ErfaWarning: ERFA function \"epv00\" yielded 1 of \"warning: date outsidethe range 1900-2100 AD\"\n",
      "  warnings.warn('ERFA function \"{}\" yielded {}'.format(func_name, wmsg),\n"
     ]
    },
    {
     "data": {
      "text/plain": [
       "<SkyCoord (AltAz: obstime=1246244.5, location=(4901637.66358938, 3009614.36089623, 2747193.79657619) m, pressure=0.0 hPa, temperature=0.0 deg_C, relative_humidity=0.0, obswl=1.0 micron): (az, alt) in deg\n",
       "    (17.45261761, -73.6225216)>"
      ]
     },
     "execution_count": 39,
     "metadata": {},
     "output_type": "execute_result"
    }
   ],
   "source": [
    "obj.transform_to(AltAz(obstime=tt, location=Luxor))"
   ]
  },
  {
   "cell_type": "code",
   "execution_count": 11,
   "metadata": {},
   "outputs": [
    {
     "name": "stdout",
     "output_type": "stream",
     "text": [
      "-73.6 17.5\n"
     ]
    }
   ],
   "source": [
    "print(alt, az)"
   ]
  },
  {
   "cell_type": "code",
   "execution_count": 32,
   "metadata": {},
   "outputs": [
    {
     "data": {
      "text/plain": [
       "<SkyCoord (AltAz: obstime=2017-02-05 20:12:18.000, location=(4901637.66358938, 3009614.36089623, 2747193.79657619) m, pressure=0.0 hPa, temperature=0.0 deg_C, relative_humidity=0.0, obswl=1.0 micron): (az, alt) in deg\n",
       "    (211.85156395, 15.95706777)>"
      ]
     },
     "execution_count": 32,
     "metadata": {},
     "output_type": "execute_result"
    }
   ],
   "source": [
    "\n",
    "observing_location = EarthLocation(lat='52.2532', lon='351.63910339111703', height=100*u.m)  \n",
    "observing_time = Time('2017-02-05 20:12:18')  \n",
    "aa = AltAz(location=Luxor, obstime=observing_time)\n",
    "\n",
    "coord = SkyCoord('4h42m', '-38d6m50.8s')\n",
    "coord.transform_to(aa)"
   ]
  },
  {
   "cell_type": "code",
   "execution_count": null,
   "metadata": {},
   "outputs": [],
   "source": [
    "\n",
    "# start writing the file\n",
    "\n",
    "with open(filename, \"w\", newline='') as file:\n",
    "    writer = csv.writer(file, delimiter='|')\n",
    "    #writer.writerow([\"Object: \" + str(decans)])\n",
    "    #writer.writerow([\"Luxor = EarthLocation(lat=25.68*u.deg, lon=31.55*u.deg, height=89*u.m)\"])\n",
    "    #writer.writerow([\"\\n\"])\n",
    "    writer.writerow(hd_list) # write headers\n",
    "    for day in days:\n",
    "        for hour in hours:\n",
    "            for mins in minutes:\n",
    "                temptime = day + hour + mins\n",
    "                # Sun coords\n",
    "                c = SkyCoord(0 * u.arcsec, 0 * u.arcsec, obstime=Time(temptime, format = 'jd'), observer=\"earth\", frame=frames.Helioprojective)\n",
    "                frame_altaz = AltAz(obstime=Time(temptime, format = 'jd'), location=Luxor)\n",
    "                sun_altaz = c.transform_to(frame_altaz)\n",
    "                # decan coords\n",
    "                info = ['{0:.16f}'.format(np.round(temptime, 10)),\n",
    "                                 str(Time(temptime, format = 'jd').fits),\n",
    "                                 '{0:.1f}'.format(sun_altaz.T.az)[0:-4], # [0:-4] get rid of trailing \" deg\" for later analysis\n",
    "                                 '{0:.1f}'.format(sun_altaz.T.alt)[0:-4]]\n",
    "                for obj in obj_list:\n",
    "                    info_temp = obj.transform_to(AltAz(obstime=Time(temptime, format = 'jd'), location=Luxor))\n",
    "                    info.append('{0.az:.1f}'.format(info_temp)[0:-4]) \n",
    "                    info.append('{0.alt:.1f}'.format(info_temp)[0:-4]) \n",
    "                # Write to file\n",
    "                writer.writerow(info)\n",
    "\n",
    "\n",
    "\n",
    "# ##\n",
    "# #### Functions for data processing\n",
    "# ##\n",
    "\n",
    "\n",
    "# Import Decan Data\n",
    "\n",
    "def ImportDecanData(direct, filename):\n",
    "    \n",
    "    '''\n",
    "    A function to import data from a decanOpy-generated .txt file. \n",
    "    Inputs: \n",
    "        direct = string with the directory where the .txt file is located\n",
    "        filename = string with name of file (name + month + year)\n",
    "    Outputs:\n",
    "        jd = Julian date\n",
    "        date = human readable date\n",
    "        DecAz = the azimuth of the decan\n",
    "        DecAlt = the altitude of the decan\n",
    "        SunAz = the azimuth of the Sun\n",
    "        SunAlt = the altitude of the Sun\n",
    "    '''\n",
    "    \n",
    "    jd = []\n",
    "    date = []\n",
    "    DecAz = []\n",
    "    DecAlt = []\n",
    "    SunAz = []\n",
    "    SunAlt = []\n",
    "    # Import Single Object\n",
    "    with open(direct + filename) as csv_file:\n",
    "        csv_reader = csv.reader(csv_file, delimiter='|')\n",
    "        decan = next(csv_reader)[0]\n",
    "        location = next(csv_reader)[0]\n",
    "        trash = next(csv_reader)\n",
    "        headers = next(csv_reader)\n",
    "        for row in csv_reader:\n",
    "            # time info\n",
    "            jd.append(float(row[0]))\n",
    "            date.append(row[1])\n",
    "            # decan info\n",
    "            DecAz.append(float(row[2][0:-4]))\n",
    "            DecAlt.append(float(row[3][0:-4]))\n",
    "            # solar info\n",
    "            SunAz.append(float(row[4][0:-4]))\n",
    "            SunAlt.append(float(row[5][0:-4]))\n",
    "    return(jd, date, DecAz, DecAlt, SunAz, SunAlt)\n",
    "\n",
    "def JustDecanData(direct, filename):\n",
    "    \n",
    "    '''\n",
    "    A function to import just the can data data from a decanOpy-generated .txt file. \n",
    "    Used for the MaxMinAltAz function.\n",
    "    Inputs: \n",
    "        direct = string with the directory where the .txt file is located\n",
    "        filename = string with name of file (name + month + year)\n",
    "    Outputs:\n",
    "        DecAz = the azimuth of the decan\n",
    "        DecAlt = the altitude of the decan\n",
    "    '''\n",
    "    \n",
    "    DecAz = []\n",
    "    DecAlt = []\n",
    "    # Import Single Object\n",
    "    with open(direct + filename) as csv_file:\n",
    "        csv_reader = csv.reader(csv_file, delimiter='|')\n",
    "        decan = next(csv_reader)[0]\n",
    "        location = next(csv_reader)[0]\n",
    "        trash = next(csv_reader)\n",
    "        headers = next(csv_reader)\n",
    "        for row in csv_reader:\n",
    "            # decan info\n",
    "            DecAz.append(float(row[2][0:-4]))\n",
    "            DecAlt.append(float(row[3][0:-4]))\n",
    "            # solar info\n",
    "    return(DecAz, DecAlt)\n",
    "\n",
    "# Get Sunset and Sunrise Times\n",
    "\n",
    "def SunRiseSet(jd, SunAlt):\n",
    "    \n",
    "    '''\n",
    "    A function to create a list of indices where the Sun rises and sets in a given year. \n",
    "    This is useful for making sure we're tracking nightly, visible motion of the decans.\n",
    "    Inputs: \n",
    "        jd = Julian date\n",
    "        SunAlt = the altitude of the Sun\n",
    "    Outputs:\n",
    "        sunriseset = indices of sunrize and sunset in the jd & date columns\n",
    "    '''\n",
    "    \n",
    "    sunriseset = []\n",
    "    for i in range(360, len(jd), 360):\n",
    "        temp = []\n",
    "        for j in range(i - 360, i):\n",
    "            if SunAlt[j] <= 0.4 and SunAlt[j] >= -0.4:\n",
    "                if len(temp) == 0: \n",
    "                    temp.append(j)\n",
    "                elif temp[-1] != j - 1:\n",
    "                    temp.append(j)\n",
    "        sunriseset.append(temp)\n",
    "    return sunriseset\n",
    "\n",
    "# Maximum and Minimum Nightly Altitude of Object\n",
    "\n",
    "def MaxMinAltAz(direct, filename, jd, sunriseset):\n",
    "    \n",
    "    '''\n",
    "    A function to create lists of minimum and maximum azimuths and altitudes of the decan. \n",
    "    This is useful for making sure we're tracking nightly, visible motion of the decans.\n",
    "    Inputs: \n",
    "        direct = string with the directory where the .txt file is located\n",
    "        filename = string with name of file (name + month + year)\n",
    "        jv = Julian date\n",
    "        sunriseset = indices of sunrize and sunset in the jd & date columns\n",
    "    Outputs:\n",
    "        sunriseset = indices of sunrize and sunset in the jd & date columns\n",
    "        days = list of indices when it's daylight \n",
    "        minaz, maxaz = minimum and maximum azimuths of the decan per night\n",
    "        minalt, maxalt = minimum and maximum altitudes of the decan per night\n",
    "        riseaz, setaz = azimuth of decan at rise & set\n",
    "        risealt, setalt = altitude of decan at rise & set\n",
    "    '''\n",
    "    \n",
    "    (DecAz, DecAlt) = JustDecanData(direct, filename)\n",
    "    maxalt = []\n",
    "    minalt = []\n",
    "    maxaz = []\n",
    "    minaz = []\n",
    "    riseaz = []\n",
    "    setaz = []\n",
    "    risealt = []\n",
    "    setalt = []\n",
    "    days = []\n",
    "    for i in range(0, int(len(jd)/360) - 2):\n",
    "        sset = sunriseset[i][1]\n",
    "        srise = sunriseset[i + 1][0]\n",
    "        maxalt.append(max(DecAlt[sset:srise]))\n",
    "        minalt.append(min(DecAlt[sset:srise]))\n",
    "        maxaz.append(max(DecAz[sset:srise]))\n",
    "        minaz.append(min(DecAz[sset:srise]))\n",
    "        riseaz.append(DecAz[srise])\n",
    "        setaz.append(DecAz[sset])\n",
    "        risealt.append(DecAlt[srise])\n",
    "        setalt.append(DecAlt[sset])\n",
    "        days.append(DecAlt[srise:sset])\n",
    "    return(days, minaz, maxaz, minalt, maxalt, riseaz, setaz, risealt, setalt)\n",
    "\n"
   ]
  }
 ],
 "metadata": {
  "kernelspec": {
   "display_name": "decanOpy",
   "language": "python",
   "name": "python3"
  },
  "language_info": {
   "codemirror_mode": {
    "name": "ipython",
    "version": 3
   },
   "file_extension": ".py",
   "mimetype": "text/x-python",
   "name": "python",
   "nbconvert_exporter": "python",
   "pygments_lexer": "ipython3",
   "version": "3.11.2"
  },
  "orig_nbformat": 4
 },
 "nbformat": 4,
 "nbformat_minor": 2
}
